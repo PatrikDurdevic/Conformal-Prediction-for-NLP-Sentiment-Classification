{
 "cells": [
  {
   "cell_type": "code",
   "execution_count": 1,
   "id": "495c4f00-300a-4a27-9b51-b83852f053d9",
   "metadata": {},
   "outputs": [],
   "source": [
    "import transformers, datasets\n",
    "transformers.utils.logging.set_verbosity_error()\n",
    "datasets.utils.logging.set_verbosity_error()"
   ]
  },
  {
   "cell_type": "markdown",
   "id": "2cdbe4cc-992e-47ba-8a45-2903555b0762",
   "metadata": {},
   "source": [
    "# Nonparametric quantification of uncertainty of text classification models using conformal prediction"
   ]
  },
  {
   "cell_type": "markdown",
   "id": "272223c9-4266-48ce-8945-392597776f2b",
   "metadata": {
    "tags": []
   },
   "source": [
    "## Dataset"
   ]
  },
  {
   "cell_type": "markdown",
   "id": "1a707413-3423-4a48-a8ac-b86e14394b22",
   "metadata": {},
   "source": [
    "### Loading"
   ]
  },
  {
   "cell_type": "code",
   "execution_count": 2,
   "id": "bead2b19-1fdf-4b06-9465-b4cf3a7866d0",
   "metadata": {},
   "outputs": [
    {
     "data": {
      "application/vnd.jupyter.widget-view+json": {
       "model_id": "693035e870bb49dfad417572a1ad0d50",
       "version_major": 2,
       "version_minor": 0
      },
      "text/plain": [
       "  0%|          | 0/2 [00:00<?, ?it/s]"
      ]
     },
     "metadata": {},
     "output_type": "display_data"
    },
    {
     "data": {
      "application/vnd.jupyter.widget-view+json": {
       "model_id": "354b4afda8524990855fb9dc208b2492",
       "version_major": 2,
       "version_minor": 0
      },
      "text/plain": [
       "  0%|          | 0/2 [00:00<?, ?it/s]"
      ]
     },
     "metadata": {},
     "output_type": "display_data"
    }
   ],
   "source": [
    "from datasets import load_dataset\n",
    "import numpy as np\n",
    "dataset = load_dataset('amazon_polarity')\n",
    "smaller_dataset = load_dataset('amazon_polarity')\n",
    "smaller_dataset[\"calib\"] = smaller_dataset[\"train\"].filter(lambda e, i: i>=18000 and i<20000, with_indices=True)\n",
    "smaller_dataset[\"train\"] = smaller_dataset[\"train\"].filter(lambda e, i: i<18000, with_indices=True)\n",
    "smaller_dataset[\"test\"] = smaller_dataset[\"test\"].filter(lambda e, i: i<2000, with_indices=True)"
   ]
  },
  {
   "cell_type": "code",
   "execution_count": 3,
   "id": "2296b540-4d52-45fe-9217-c7167a8eb57d",
   "metadata": {},
   "outputs": [
    {
     "data": {
      "image/png": "[encoded data removed]",
      "text/plain": [
       "<Figure size 1152x432 with 2 Axes>"
      ]
     },
     "metadata": {
      "needs_background": "light"
     },
     "output_type": "display_data"
    }
   ],
   "source": [
    "import seaborn as sns\n",
    "import matplotlib.pyplot as plt\n",
    "fig, ax = plt.subplots(1, 2, figsize=(16,6))\n",
    "sns.histplot(smaller_dataset[\"train\"][\"label\"], ax=ax[0])\n",
    "sns.histplot(smaller_dataset[\"test\"][\"label\"], ax=ax[1])\n",
    "ax[0].set_xlabel('Labels'); ax[1].set_xlabel('Labels');\n",
    "ax[0].set_title('Train set'); ax[1].set_title('Test set');"
   ]
  },
  {
   "cell_type": "markdown",
   "id": "c81e36cc-473a-420f-9b13-ff8b558e38af",
   "metadata": {},
   "source": [
    "### DistilBERT Tokenizer"
   ]
  },
  {
   "cell_type": "code",
   "execution_count": 4,
   "id": "b499315b-2b2a-4660-9493-20d75c6fd5bf",
   "metadata": {},
   "outputs": [],
   "source": [
    "from transformers import AutoTokenizer\n",
    "\n",
    "tokenizer_distilbert = AutoTokenizer.from_pretrained(\"distilbert-base-uncased\")\n",
    "def preprocess_function_distilbert(examples):\n",
    "    return tokenizer_distilbert(examples[\"title\"], truncation=True)"
   ]
  },
  {
   "cell_type": "code",
   "execution_count": 5,
   "id": "37dc6f23-bffe-45c2-8818-6092477f8a44",
   "metadata": {},
   "outputs": [],
   "source": [
    "tokenized_dataset_distilbert = dataset['test'].map(preprocess_function_distilbert, batched=True)\n",
    "smaller_tokenized_dataset_distilbert = smaller_dataset.map(preprocess_function_distilbert, batched=True)"
   ]
  },
  {
   "cell_type": "markdown",
   "id": "606ee041-389e-4700-ac9e-22b5717deb66",
   "metadata": {},
   "source": [
    "### RoBERTa Tokenizer"
   ]
  },
  {
   "cell_type": "code",
   "execution_count": 6,
   "id": "369c6c19-3803-4608-9f9d-cc268e262f48",
   "metadata": {},
   "outputs": [],
   "source": [
    "from transformers import AutoTokenizer\n",
    "\n",
    "tokenizer_roberta = AutoTokenizer.from_pretrained(\"roberta-base\")\n",
    "def preprocess_function_roberta(examples):\n",
    "    return tokenizer_roberta(examples[\"title\"], truncation=True)"
   ]
  },
  {
   "cell_type": "code",
   "execution_count": 7,
   "id": "53b8d0f7-9935-4e8d-a0c9-e867ca9fa5ab",
   "metadata": {},
   "outputs": [],
   "source": [
    "tokenized_dataset_roberta = dataset['test'].map(preprocess_function_roberta, batched=True)\n",
    "smaller_tokenized_dataset_roberta = smaller_dataset.map(preprocess_function_roberta, batched=True)"
   ]
  },
  {
   "cell_type": "markdown",
   "id": "8ed76f94-d659-47bb-9397-7864e090cd5b",
   "metadata": {
    "tags": []
   },
   "source": [
    "## Model"
   ]
  },
  {
   "cell_type": "markdown",
   "id": "8b620135-ed21-437c-bda1-78bf91cff22c",
   "metadata": {},
   "source": [
    "### CountVectorizer & Logistic Regression"
   ]
  },
  {
   "cell_type": "code",
   "execution_count": 8,
   "id": "8c374c0c-bcef-4fe4-8603-7da32fb93616",
   "metadata": {},
   "outputs": [
    {
     "name": "stdout",
     "output_type": "stream",
     "text": [
      "Fitting 5 folds for each of 288 candidates, totalling 1440 fits\n",
      "Best parameter (CV score=0.790):\n",
      "{'logistic__C': 21.54434690031882, 'vectorizer__lowercase': True, 'vectorizer__max_features': None, 'vectorizer__ngram_range': (1, 2), 'vectorizer__stop_words': None}\n"
     ]
    }
   ],
   "source": [
    "from sklearn.feature_extraction.text import CountVectorizer\n",
    "from sklearn.linear_model import LogisticRegression\n",
    "from sklearn.pipeline import Pipeline\n",
    "from sklearn.model_selection import GridSearchCV\n",
    "from sklearn.preprocessing import StandardScaler\n",
    "\n",
    "vectorizer = CountVectorizer()\n",
    "#scaler = StandardScaler()\n",
    "logistic = LogisticRegression(max_iter=10000, tol=0.1)\n",
    "\n",
    "pipe = Pipeline(steps=[(\"vectorizer\", vectorizer), (\"logistic\", logistic)])\n",
    "\n",
    "param_grid = {\n",
    "    \"vectorizer__lowercase\": [False, True],\n",
    "    \"vectorizer__stop_words\": [None, 'english'],\n",
    "    \"vectorizer__ngram_range\": [(1,1), (1,2), (1,3), (2,2), (2,3), (3,3)],\n",
    "    \"vectorizer__max_features\": [None, 100, 300],\n",
    "    \"logistic__C\": np.logspace(-4, 4, 4),\n",
    "}\n",
    "\n",
    "search = GridSearchCV(pipe, param_grid, n_jobs=-1, verbose=1)\n",
    "search.fit(smaller_dataset[\"train\"][\"title\"], smaller_dataset[\"train\"][\"label\"])\n",
    "print(\"Best parameter (CV score=%0.3f):\" % search.best_score_)\n",
    "print(search.best_params_)"
   ]
  },
  {
   "cell_type": "code",
   "execution_count": 9,
   "id": "6b994e24-b1c4-4a51-9e3b-aa4971a810e6",
   "metadata": {},
   "outputs": [],
   "source": [
    "predicted_proba_cv_lr = search.best_estimator_.predict_proba(smaller_tokenized_dataset_distilbert[\"test\"][\"title\"])"
   ]
  },
  {
   "cell_type": "code",
   "execution_count": 10,
   "id": "575bf906-28e4-441c-82d8-e6a6a23f6ec2",
   "metadata": {},
   "outputs": [],
   "source": [
    "from scipy.special import softmax\n",
    "data_cv_lr = predicted_proba_cv_lr[:,1], np.array(smaller_tokenized_dataset_distilbert[\"test\"][\"label\"]), softmax(predicted_proba_cv_lr, axis=1)[:,1]"
   ]
  },
  {
   "cell_type": "code",
   "execution_count": 11,
   "id": "27a4ec76-33fe-4660-ac90-26f27232eabc",
   "metadata": {},
   "outputs": [
    {
     "data": {
      "text/plain": [
       "<sklearn.metrics._plot.roc_curve.RocCurveDisplay at 0x178ba3c70>"
      ]
     },
     "execution_count": 11,
     "metadata": {},
     "output_type": "execute_result"
    },
    {
     "data": {
      "image/png": "[encoded data removed]",
      "text/plain": [
       "<Figure size 1152x432 with 3 Axes>"
      ]
     },
     "metadata": {
      "needs_background": "light"
     },
     "output_type": "display_data"
    }
   ],
   "source": [
    "from sklearn.metrics import confusion_matrix\n",
    "import matplotlib.pyplot as plt     \n",
    "\n",
    "threshold = 0.5\n",
    "y_hat_cv_lr = (data_cv_lr[0] > threshold).astype('float')\n",
    "\n",
    "fig, ax = plt.subplots(1, 2, figsize=(16,6))\n",
    "sns.heatmap(confusion_matrix(data_cv_lr[1], y_hat_cv_lr), annot=True, fmt='g', ax=ax[0])\n",
    "ax[0].set_xlabel('Predicted sentiment'); ax[0].set_ylabel('True sentiment')\n",
    "ax[0].set_title('Confusion Matrix')\n",
    "ax[0].xaxis.set_ticklabels(['Negative', 'Positive']); ax[0].yaxis.set_ticklabels(['Negative', 'Positive'])\n",
    "\n",
    "from sklearn.metrics import RocCurveDisplay\n",
    "RocCurveDisplay.from_predictions(data_cv_lr[1], predicted_proba_cv_lr[:,1], ax=ax[1])"
   ]
  },
  {
   "cell_type": "markdown",
   "id": "94efea3a-46a4-4db6-a936-d23631de3c90",
   "metadata": {
    "tags": []
   },
   "source": [
    "### DistilBERT"
   ]
  },
  {
   "cell_type": "code",
   "execution_count": 12,
   "id": "d76e4481-ef8d-4af9-bc1f-afe11646fc9d",
   "metadata": {},
   "outputs": [],
   "source": [
    "from transformers import DataCollatorWithPadding\n",
    "from transformers import AutoModelForSequenceClassification\n",
    "\n",
    "data_collator_distilbert = DataCollatorWithPadding(tokenizer=tokenizer_distilbert)\n",
    "model_distilbert = AutoModelForSequenceClassification.from_pretrained(\"distilbert-base-uncased\", num_labels=2)"
   ]
  },
  {
   "cell_type": "code",
   "execution_count": 14,
   "id": "bfaa513b-a7c2-403e-a6b8-358e7136bb9d",
   "metadata": {},
   "outputs": [
    {
     "name": "stderr",
     "output_type": "stream",
     "text": [
      "PyTorch: setting up devices\n",
      "The default value for the training argument `--report_to` will change in v5 (from all installed integrations to none). In v5, you will need to use `--report_to all` to get the same behavior as now. You should start updating your code and make this info disappear :-).\n",
      "The following columns in the training set  don't have a corresponding argument in `DistilBertForSequenceClassification.forward` and have been ignored: title, content.\n",
      "***** Running training *****\n",
      "  Num examples = 18000\n",
      "  Num Epochs = 5\n",
      "  Instantaneous batch size per device = 32\n",
      "  Total train batch size (w. parallel, distributed & accumulation) = 32\n",
      "  Gradient Accumulation steps = 1\n",
      "  Total optimization steps = 2815\n"
     ]
    },
    {
     "data": {
      "text/html": [
       "\n",
       "    <div>\n",
       "      \n",
       "      <progress value='2815' max='2815' style='width:300px; height:20px; vertical-align: middle;'></progress>\n",
       "      [2815/2815 59:23, Epoch 5/5]\n",
       "    </div>\n",
       "    <table border=\"1\" class=\"dataframe\">\n",
       "  <thead>\n",
       "    <tr style=\"text-align: left;\">\n",
       "      <th>Step</th>\n",
       "      <th>Training Loss</th>\n",
       "    </tr>\n",
       "  </thead>\n",
       "  <tbody>\n",
       "    <tr>\n",
       "      <td>500</td>\n",
       "      <td>0.300200</td>\n",
       "    </tr>\n",
       "    <tr>\n",
       "      <td>1000</td>\n",
       "      <td>0.251500</td>\n",
       "    </tr>\n",
       "    <tr>\n",
       "      <td>1500</td>\n",
       "      <td>0.184200</td>\n",
       "    </tr>\n",
       "    <tr>\n",
       "      <td>2000</td>\n",
       "      <td>0.131000</td>\n",
       "    </tr>\n",
       "    <tr>\n",
       "      <td>2500</td>\n",
       "      <td>0.102500</td>\n",
       "    </tr>\n",
       "  </tbody>\n",
       "</table><p>"
      ],
      "text/plain": [
       "<IPython.core.display.HTML object>"
      ]
     },
     "metadata": {},
     "output_type": "display_data"
    },
    {
     "name": "stderr",
     "output_type": "stream",
     "text": [
      "Saving model checkpoint to ./results_distilbert/checkpoint-500\n",
      "Configuration saved in ./results_distilbert/checkpoint-500/config.json\n",
      "Model weights saved in ./results_distilbert/checkpoint-500/pytorch_model.bin\n",
      "tokenizer config file saved in ./results_distilbert/checkpoint-500/tokenizer_config.json\n",
      "Special tokens file saved in ./results_distilbert/checkpoint-500/special_tokens_map.json\n",
      "Saving model checkpoint to ./results_distilbert/checkpoint-1000\n",
      "Configuration saved in ./results_distilbert/checkpoint-1000/config.json\n",
      "Model weights saved in ./results_distilbert/checkpoint-1000/pytorch_model.bin\n",
      "tokenizer config file saved in ./results_distilbert/checkpoint-1000/tokenizer_config.json\n",
      "Special tokens file saved in ./results_distilbert/checkpoint-1000/special_tokens_map.json\n",
      "Saving model checkpoint to ./results_distilbert/checkpoint-1500\n",
      "Configuration saved in ./results_distilbert/checkpoint-1500/config.json\n",
      "Model weights saved in ./results_distilbert/checkpoint-1500/pytorch_model.bin\n",
      "tokenizer config file saved in ./results_distilbert/checkpoint-1500/tokenizer_config.json\n",
      "Special tokens file saved in ./results_distilbert/checkpoint-1500/special_tokens_map.json\n",
      "Saving model checkpoint to ./results_distilbert/checkpoint-2000\n",
      "Configuration saved in ./results_distilbert/checkpoint-2000/config.json\n",
      "Model weights saved in ./results_distilbert/checkpoint-2000/pytorch_model.bin\n",
      "tokenizer config file saved in ./results_distilbert/checkpoint-2000/tokenizer_config.json\n",
      "Special tokens file saved in ./results_distilbert/checkpoint-2000/special_tokens_map.json\n",
      "Saving model checkpoint to ./results_distilbert/checkpoint-2500\n",
      "Configuration saved in ./results_distilbert/checkpoint-2500/config.json\n",
      "Model weights saved in ./results_distilbert/checkpoint-2500/pytorch_model.bin\n",
      "tokenizer config file saved in ./results_distilbert/checkpoint-2500/tokenizer_config.json\n",
      "Special tokens file saved in ./results_distilbert/checkpoint-2500/special_tokens_map.json\n",
      "\n",
      "\n",
      "Training completed. Do not forget to share your model on huggingface.co/models =)\n",
      "\n",
      "\n"
     ]
    },
    {
     "data": {
      "text/plain": [
       "TrainOutput(global_step=2815, training_loss=0.18227113754245358, metrics={'train_runtime': 3564.78, 'train_samples_per_second': 25.247, 'train_steps_per_second': 0.79, 'total_flos': 440255399433216.0, 'train_loss': 0.18227113754245358, 'epoch': 5.0})"
      ]
     },
     "execution_count": 14,
     "metadata": {},
     "output_type": "execute_result"
    }
   ],
   "source": [
    "from transformers import TrainingArguments, Trainer\n",
    "from datasets import load_metric\n",
    "\n",
    "training_args_distilbert = TrainingArguments(\n",
    "    output_dir=\"./results_distilbert\",\n",
    "    learning_rate=2e-5,\n",
    "    per_device_train_batch_size=32,\n",
    "    per_device_eval_batch_size=32,\n",
    "    num_train_epochs=5,\n",
    "    weight_decay=0.01,\n",
    ")\n",
    "\n",
    "trainer_distilbert = Trainer(\n",
    "    model=model_distilbert,\n",
    "    args=training_args_distilbert,\n",
    "    train_dataset=smaller_tokenized_dataset_distilbert[\"train\"],\n",
    "    eval_dataset=smaller_tokenized_dataset_distilbert[\"test\"],\n",
    "    tokenizer=tokenizer_distilbert,\n",
    "    data_collator=data_collator_distilbert\n",
    ")\n",
    "\n",
    "trainer_distilbert.train()"
   ]
  },
  {
   "cell_type": "code",
   "execution_count": 15,
   "id": "ca688af5-8442-47f5-bf13-3531a666898e",
   "metadata": {},
   "outputs": [
    {
     "name": "stderr",
     "output_type": "stream",
     "text": [
      "Saving model checkpoint to distilbert\n",
      "Configuration saved in distilbert/config.json\n",
      "Model weights saved in distilbert/pytorch_model.bin\n",
      "tokenizer config file saved in distilbert/tokenizer_config.json\n",
      "Special tokens file saved in distilbert/special_tokens_map.json\n"
     ]
    }
   ],
   "source": [
    "trainer_distilbert.save_model('distilbert')"
   ]
  },
  {
   "cell_type": "markdown",
   "id": "0642a7d3-7060-48c5-8540-41870ab6596b",
   "metadata": {},
   "source": [
    "**Load pretrained model**"
   ]
  },
  {
   "cell_type": "code",
   "execution_count": 16,
   "id": "47f06ba1-9c93-4041-a82a-bb5fae01587f",
   "metadata": {},
   "outputs": [
    {
     "name": "stderr",
     "output_type": "stream",
     "text": [
      "loading configuration file ./distilbert/config.json\n",
      "Model config DistilBertConfig {\n",
      "  \"_name_or_path\": \"./distilbert/\",\n",
      "  \"activation\": \"gelu\",\n",
      "  \"architectures\": [\n",
      "    \"DistilBertForSequenceClassification\"\n",
      "  ],\n",
      "  \"attention_dropout\": 0.1,\n",
      "  \"dim\": 768,\n",
      "  \"dropout\": 0.1,\n",
      "  \"hidden_dim\": 3072,\n",
      "  \"initializer_range\": 0.02,\n",
      "  \"max_position_embeddings\": 512,\n",
      "  \"model_type\": \"distilbert\",\n",
      "  \"n_heads\": 12,\n",
      "  \"n_layers\": 6,\n",
      "  \"pad_token_id\": 0,\n",
      "  \"problem_type\": \"single_label_classification\",\n",
      "  \"qa_dropout\": 0.1,\n",
      "  \"seq_classif_dropout\": 0.2,\n",
      "  \"sinusoidal_pos_embds\": false,\n",
      "  \"tie_weights_\": true,\n",
      "  \"torch_dtype\": \"float32\",\n",
      "  \"transformers_version\": \"4.15.0\",\n",
      "  \"vocab_size\": 30522\n",
      "}\n",
      "\n",
      "loading weights file ./distilbert/pytorch_model.bin\n",
      "All model checkpoint weights were used when initializing DistilBertForSequenceClassification.\n",
      "\n",
      "All the weights of DistilBertForSequenceClassification were initialized from the model checkpoint at ./distilbert/.\n",
      "If your task is similar to the task the model of the checkpoint was trained on, you can already use DistilBertForSequenceClassification for predictions without further training.\n",
      "PyTorch: setting up devices\n",
      "The default value for the training argument `--report_to` will change in v5 (from all installed integrations to none). In v5, you will need to use `--report_to all` to get the same behavior as now. You should start updating your code and make this info disappear :-).\n"
     ]
    }
   ],
   "source": [
    "from transformers import AutoModelForSequenceClassification\n",
    "model = AutoModelForSequenceClassification.from_pretrained('./distilbert/')\n",
    "\n",
    "from transformers import TextClassificationPipeline\n",
    "from transformers import TrainingArguments, Trainer\n",
    "from transformers import DataCollatorWithPadding\n",
    "from transformers import AutoModelForSequenceClassification\n",
    "\n",
    "data_collator_distilbert = DataCollatorWithPadding(tokenizer=tokenizer_distilbert)\n",
    "\n",
    "training_args_distilbert = TrainingArguments(\n",
    "    output_dir=\"./results_distilbert\",\n",
    "    learning_rate=2e-5,\n",
    "    per_device_train_batch_size=32,\n",
    "    per_device_eval_batch_size=32,\n",
    "    num_train_epochs=5,\n",
    "    weight_decay=0.01,\n",
    ")\n",
    "\n",
    "trainer_distilbert = Trainer(\n",
    "    model=model_distilbert,\n",
    "    args=training_args_distilbert,\n",
    "    train_dataset=smaller_tokenized_dataset_distilbert[\"train\"],\n",
    "    eval_dataset=smaller_tokenized_dataset_distilbert[\"test\"],\n",
    "    tokenizer=tokenizer_distilbert,\n",
    "    data_collator=data_collator_distilbert\n",
    ")"
   ]
  },
  {
   "cell_type": "code",
   "execution_count": 17,
   "id": "db851d02-acee-4c67-b2b1-65bf09c60ccb",
   "metadata": {},
   "outputs": [
    {
     "name": "stderr",
     "output_type": "stream",
     "text": [
      "The following columns in the test set  don't have a corresponding argument in `DistilBertForSequenceClassification.forward` and have been ignored: title, content.\n",
      "***** Running Prediction *****\n",
      "  Num examples = 2000\n",
      "  Batch size = 32\n"
     ]
    },
    {
     "data": {
      "text/html": [
       "\n",
       "    <div>\n",
       "      \n",
       "      <progress value='1039' max='63' style='width:300px; height:20px; vertical-align: middle;'></progress>\n",
       "      [63/63 1:17:13]\n",
       "    </div>\n",
       "    "
      ],
      "text/plain": [
       "<IPython.core.display.HTML object>"
      ]
     },
     "metadata": {},
     "output_type": "display_data"
    }
   ],
   "source": [
    "import torch\n",
    "import torch.nn.functional as F\n",
    "predicted_distilbert = trainer_distilbert.predict(smaller_tokenized_dataset_distilbert[\"test\"])\n",
    "\n",
    "predicted_proba_distilbert = torch.tensor(predicted_distilbert.predictions)\n",
    "predicted_softmax_distilbert = F.softmax(predicted_proba_distilbert, dim=1)"
   ]
  },
  {
   "cell_type": "code",
   "execution_count": 18,
   "id": "f2fd712f-c4a7-468c-b66a-934d112ad725",
   "metadata": {},
   "outputs": [],
   "source": [
    "data_distilbert = predicted_proba_distilbert[:,1].numpy(), np.array(smaller_tokenized_dataset_distilbert[\"test\"][\"label\"]), predicted_softmax_distilbert[:,1].numpy()"
   ]
  },
  {
   "cell_type": "code",
   "execution_count": 19,
   "id": "2bdd524f-cb9c-4812-b9c4-7266807a696b",
   "metadata": {},
   "outputs": [
    {
     "data": {
      "text/plain": [
       "<sklearn.metrics._plot.roc_curve.RocCurveDisplay at 0x38eee0be0>"
      ]
     },
     "execution_count": 19,
     "metadata": {},
     "output_type": "execute_result"
    },
    {
     "data": {
      "image/png": "[encoded data removed]",
      "text/plain": [
       "<Figure size 1152x432 with 3 Axes>"
      ]
     },
     "metadata": {
      "needs_background": "light"
     },
     "output_type": "display_data"
    }
   ],
   "source": [
    "from sklearn.metrics import confusion_matrix\n",
    "import matplotlib.pyplot as plt     \n",
    "\n",
    "threshold = 0.5\n",
    "y_hat_distilbert = (data_distilbert[0] > threshold).astype('float')\n",
    "\n",
    "fig, ax = plt.subplots(1, 2, figsize=(16,6))\n",
    "sns.heatmap(confusion_matrix(data_distilbert[1], y_hat_distilbert), annot=True, fmt='g', ax=ax[0])\n",
    "ax[0].set_xlabel('Predicted sentiment'); ax[0].set_ylabel('True sentiment')\n",
    "ax[0].set_title('Confusion Matrix')\n",
    "ax[0].xaxis.set_ticklabels(['Negative', 'Positive']); ax[0].yaxis.set_ticklabels(['Negative', 'Positive'])\n",
    "\n",
    "from sklearn.metrics import RocCurveDisplay\n",
    "RocCurveDisplay.from_predictions(data_distilbert[1], predicted_proba_distilbert[:,1], ax=ax[1])"
   ]
  },
  {
   "cell_type": "markdown",
   "id": "31e1e4d4-cd18-42ba-b356-380b600a6cbc",
   "metadata": {},
   "source": [
    "## Model"
   ]
  },
  {
   "cell_type": "markdown",
   "id": "e1302df8-13a4-4ec0-9ada-e36615093540",
   "metadata": {},
   "source": [
    "### RoBERTa"
   ]
  },
  {
   "cell_type": "code",
   "execution_count": 20,
   "id": "d9abc867-371d-44ca-b185-83c3233ed5b3",
   "metadata": {},
   "outputs": [
    {
     "name": "stderr",
     "output_type": "stream",
     "text": [
      "loading configuration file https://huggingface.co/roberta-base/resolve/main/config.json from cache at /Users/q_user/.cache/huggingface/transformers/733bade19e5f0ce98e6531021dd5180994bb2f7b8bd7e80c7968805834ba351e.35205c6cfc956461d8515139f0f8dd5d207a2f336c0c3a83b4bc8dca3518e37b\n",
      "Model config RobertaConfig {\n",
      "  \"_name_or_path\": \"roberta-base\",\n",
      "  \"architectures\": [\n",
      "    \"RobertaForMaskedLM\"\n",
      "  ],\n",
      "  \"attention_probs_dropout_prob\": 0.1,\n",
      "  \"bos_token_id\": 0,\n",
      "  \"classifier_dropout\": null,\n",
      "  \"eos_token_id\": 2,\n",
      "  \"hidden_act\": \"gelu\",\n",
      "  \"hidden_dropout_prob\": 0.1,\n",
      "  \"hidden_size\": 768,\n",
      "  \"initializer_range\": 0.02,\n",
      "  \"intermediate_size\": 3072,\n",
      "  \"layer_norm_eps\": 1e-05,\n",
      "  \"max_position_embeddings\": 514,\n",
      "  \"model_type\": \"roberta\",\n",
      "  \"num_attention_heads\": 12,\n",
      "  \"num_hidden_layers\": 12,\n",
      "  \"pad_token_id\": 1,\n",
      "  \"position_embedding_type\": \"absolute\",\n",
      "  \"transformers_version\": \"4.15.0\",\n",
      "  \"type_vocab_size\": 1,\n",
      "  \"use_cache\": true,\n",
      "  \"vocab_size\": 50265\n",
      "}\n",
      "\n",
      "loading weights file https://huggingface.co/roberta-base/resolve/main/pytorch_model.bin from cache at /Users/q_user/.cache/huggingface/transformers/51ba668f7ff34e7cdfa9561e8361747738113878850a7d717dbc69de8683aaad.c7efaa30a0d80b2958b876969faa180e485944a849deee4ad482332de65365a7\n",
      "Some weights of the model checkpoint at roberta-base were not used when initializing RobertaForSequenceClassification: ['roberta.pooler.dense.bias', 'roberta.pooler.dense.weight', 'lm_head.bias', 'lm_head.decoder.weight', 'lm_head.layer_norm.weight', 'lm_head.layer_norm.bias', 'lm_head.dense.bias', 'lm_head.dense.weight']\n",
      "- This IS expected if you are initializing RobertaForSequenceClassification from the checkpoint of a model trained on another task or with another architecture (e.g. initializing a BertForSequenceClassification model from a BertForPreTraining model).\n",
      "- This IS NOT expected if you are initializing RobertaForSequenceClassification from the checkpoint of a model that you expect to be exactly identical (initializing a BertForSequenceClassification model from a BertForSequenceClassification model).\n",
      "Some weights of RobertaForSequenceClassification were not initialized from the model checkpoint at roberta-base and are newly initialized: ['classifier.out_proj.bias', 'classifier.dense.bias', 'classifier.dense.weight', 'classifier.out_proj.weight']\n",
      "You should probably TRAIN this model on a down-stream task to be able to use it for predictions and inference.\n"
     ]
    }
   ],
   "source": [
    "from transformers import DataCollatorWithPadding\n",
    "from transformers import AutoModelForSequenceClassification\n",
    "\n",
    "data_collator_roberta = DataCollatorWithPadding(tokenizer=tokenizer_roberta)\n",
    "model_roberta = AutoModelForSequenceClassification.from_pretrained(\"roberta-base\", num_labels=2)"
   ]
  },
  {
   "cell_type": "code",
   "execution_count": null,
   "id": "2bdd7653-0e78-4b30-8a80-a39af656d024",
   "metadata": {},
   "outputs": [],
   "source": [
    "from transformers import TrainingArguments, Trainer\n",
    "from datasets import load_metric\n",
    "\n",
    "training_args_roberta = TrainingArguments(\n",
    "    output_dir=\"./results_roberta\",\n",
    "    learning_rate=2e-5,\n",
    "    per_device_train_batch_size=32,\n",
    "    per_device_eval_batch_size=32,\n",
    "    num_train_epochs=5,\n",
    "    weight_decay=0.01,\n",
    ")\n",
    "\n",
    "trainer_roberta = Trainer(\n",
    "    model=model_roberta,\n",
    "    args=training_args_roberta,\n",
    "    train_dataset=smaller_tokenized_dataset_roberta[\"train\"],\n",
    "    eval_dataset=smaller_tokenized_dataset_roberta[\"test\"],\n",
    "    tokenizer=tokenizer_roberta,\n",
    "    data_collator=data_collator_roberta\n",
    ")\n",
    "\n",
    "trainer_roberta.train()"
   ]
  },
  {
   "cell_type": "code",
   "execution_count": null,
   "id": "1c593fa4-7906-4607-9155-42977c2776bd",
   "metadata": {},
   "outputs": [],
   "source": [
    "trainer_roberta.save_model('roberta')"
   ]
  },
  {
   "cell_type": "markdown",
   "id": "1245c4c2-679f-46a5-9ede-ec63776afe8a",
   "metadata": {},
   "source": [
    "**Load pretrained model**"
   ]
  },
  {
   "cell_type": "code",
   "execution_count": 22,
   "id": "152a6686-ec71-4fa3-a5f7-7d9e99509187",
   "metadata": {},
   "outputs": [
    {
     "name": "stderr",
     "output_type": "stream",
     "text": [
      "loading configuration file ./results_roberta/checkpoint-1000/config.json\n",
      "Model config RobertaConfig {\n",
      "  \"_name_or_path\": \"./results_roberta/checkpoint-1000/\",\n",
      "  \"architectures\": [\n",
      "    \"RobertaForSequenceClassification\"\n",
      "  ],\n",
      "  \"attention_probs_dropout_prob\": 0.1,\n",
      "  \"bos_token_id\": 0,\n",
      "  \"classifier_dropout\": null,\n",
      "  \"eos_token_id\": 2,\n",
      "  \"hidden_act\": \"gelu\",\n",
      "  \"hidden_dropout_prob\": 0.1,\n",
      "  \"hidden_size\": 768,\n",
      "  \"initializer_range\": 0.02,\n",
      "  \"intermediate_size\": 3072,\n",
      "  \"layer_norm_eps\": 1e-05,\n",
      "  \"max_position_embeddings\": 514,\n",
      "  \"model_type\": \"roberta\",\n",
      "  \"num_attention_heads\": 12,\n",
      "  \"num_hidden_layers\": 12,\n",
      "  \"pad_token_id\": 1,\n",
      "  \"position_embedding_type\": \"absolute\",\n",
      "  \"problem_type\": \"single_label_classification\",\n",
      "  \"torch_dtype\": \"float32\",\n",
      "  \"transformers_version\": \"4.15.0\",\n",
      "  \"type_vocab_size\": 1,\n",
      "  \"use_cache\": true,\n",
      "  \"vocab_size\": 50265\n",
      "}\n",
      "\n",
      "loading weights file ./results_roberta/checkpoint-1000/pytorch_model.bin\n",
      "All model checkpoint weights were used when initializing RobertaForSequenceClassification.\n",
      "\n",
      "All the weights of RobertaForSequenceClassification were initialized from the model checkpoint at ./results_roberta/checkpoint-1000/.\n",
      "If your task is similar to the task the model of the checkpoint was trained on, you can already use RobertaForSequenceClassification for predictions without further training.\n",
      "PyTorch: setting up devices\n",
      "The default value for the training argument `--report_to` will change in v5 (from all installed integrations to none). In v5, you will need to use `--report_to all` to get the same behavior as now. You should start updating your code and make this info disappear :-).\n"
     ]
    }
   ],
   "source": [
    "from transformers import AutoModelForSequenceClassification\n",
    "model = AutoModelForSequenceClassification.from_pretrained('./results_roberta/checkpoint-1000/')\n",
    "\n",
    "from transformers import TextClassificationPipeline\n",
    "from transformers import TrainingArguments, Trainer\n",
    "from transformers import DataCollatorWithPadding\n",
    "from transformers import AutoModelForSequenceClassification\n",
    "\n",
    "data_collator_roberta = DataCollatorWithPadding(tokenizer=tokenizer_roberta)\n",
    "\n",
    "training_args_roberta = TrainingArguments(\n",
    "    output_dir=\"./results_roberta\",\n",
    "    learning_rate=2e-5,\n",
    "    per_device_train_batch_size=32,\n",
    "    per_device_eval_batch_size=32,\n",
    "    num_train_epochs=5,\n",
    "    weight_decay=0.01,\n",
    ")\n",
    "\n",
    "trainer_roberta = Trainer(\n",
    "    model=model_roberta,\n",
    "    args=training_args_roberta,\n",
    "    train_dataset=smaller_tokenized_dataset_roberta[\"train\"],\n",
    "    eval_dataset=smaller_tokenized_dataset_roberta[\"test\"],\n",
    "    tokenizer=tokenizer_roberta,\n",
    "    data_collator=data_collator_roberta\n",
    ")"
   ]
  },
  {
   "cell_type": "code",
   "execution_count": 23,
   "id": "a97bbfbc-ba47-41ab-b893-14210d763c88",
   "metadata": {},
   "outputs": [
    {
     "name": "stderr",
     "output_type": "stream",
     "text": [
      "The following columns in the test set  don't have a corresponding argument in `RobertaForSequenceClassification.forward` and have been ignored: title, content.\n",
      "***** Running Prediction *****\n",
      "  Num examples = 2000\n",
      "  Batch size = 32\n"
     ]
    },
    {
     "data": {
      "text/html": [
       "\n",
       "    <div>\n",
       "      \n",
       "      <progress value='63' max='63' style='width:300px; height:20px; vertical-align: middle;'></progress>\n",
       "      [63/63 00:43]\n",
       "    </div>\n",
       "    "
      ],
      "text/plain": [
       "<IPython.core.display.HTML object>"
      ]
     },
     "metadata": {},
     "output_type": "display_data"
    }
   ],
   "source": [
    "import torch\n",
    "import torch.nn.functional as F\n",
    "predicted_roberta = trainer_roberta.predict(smaller_tokenized_dataset_roberta[\"test\"])\n",
    "\n",
    "predicted_proba_roberta = torch.tensor(predicted_roberta.predictions)\n",
    "predicted_softmax_roberta = F.softmax(predicted_proba_roberta, dim=1)"
   ]
  },
  {
   "cell_type": "code",
   "execution_count": 24,
   "id": "20e7e67a-eda4-4269-baef-9c1c6b98f60b",
   "metadata": {},
   "outputs": [],
   "source": [
    "data_roberta = predicted_proba_roberta[:,1].numpy(), np.array(smaller_tokenized_dataset_roberta[\"test\"][\"label\"]), predicted_softmax_roberta[:,1].numpy()"
   ]
  },
  {
   "cell_type": "code",
   "execution_count": 25,
   "id": "c17dfafc-3462-44bf-acdc-3296a236388b",
   "metadata": {},
   "outputs": [
    {
     "data": {
      "text/plain": [
       "<sklearn.metrics._plot.roc_curve.RocCurveDisplay at 0x3b0d021f0>"
      ]
     },
     "execution_count": 25,
     "metadata": {},
     "output_type": "execute_result"
    },
    {
     "data": {
      "image/png": "[encoded data removed]",
      "text/plain": [
       "<Figure size 1152x432 with 3 Axes>"
      ]
     },
     "metadata": {
      "needs_background": "light"
     },
     "output_type": "display_data"
    }
   ],
   "source": [
    "from sklearn.metrics import confusion_matrix\n",
    "import matplotlib.pyplot as plt     \n",
    "\n",
    "threshold = 0.5\n",
    "y_hat_roberta = (data_roberta[0] > threshold).astype('float')\n",
    "\n",
    "fig, ax = plt.subplots(1, 2, figsize=(16,6))\n",
    "sns.heatmap(confusion_matrix(data_roberta[1], y_hat_roberta), annot=True, fmt='g', ax=ax[0])\n",
    "ax[0].set_xlabel('Predicted sentiment'); ax[0].set_ylabel('True sentiment')\n",
    "ax[0].set_title('Confusion Matrix')\n",
    "ax[0].xaxis.set_ticklabels(['Negative', 'Positive']); ax[0].yaxis.set_ticklabels(['Negative', 'Positive'])\n",
    "\n",
    "from sklearn.metrics import RocCurveDisplay\n",
    "RocCurveDisplay.from_predictions(data_roberta[1], predicted_proba_roberta[:,1], ax=ax[1])"
   ]
  },
  {
   "cell_type": "markdown",
   "id": "34d9a420-c4f6-4ef2-9a2f-6f3925b61433",
   "metadata": {},
   "source": [
    "## Evaluation - Permutation test"
   ]
  },
  {
   "cell_type": "code",
   "execution_count": 29,
   "id": "9c83a460-b258-44ba-aa5c-e91883ce16db",
   "metadata": {},
   "outputs": [],
   "source": [
    "from tqdm import tqdm\n",
    "import random\n",
    "def permutation_test(y_hat_1, y_hat_2, y_true, score, n_eval=10000):\n",
    "    D = abs(score(y_hat_1, y_true) - score(y_hat_2, y_true))\n",
    "    counter = 0\n",
    "    for i in tqdm(range(n_eval)):\n",
    "        change = np.array([random.randint(0, 1) for x in range(len(y_true))])\n",
    "        same = 1 - change\n",
    "        \n",
    "        y_hat_1_eval = same*y_hat_1 + change*y_hat_2\n",
    "        y_hat_2_eval = same*y_hat_2 + change*y_hat_1\n",
    "        \n",
    "        if abs(score(y_hat_1, y_true) - score(y_hat_2, y_true)) > D:\n",
    "            counter += 1\n",
    "    return counter / n_eval"
   ]
  },
  {
   "cell_type": "code",
   "execution_count": 30,
   "id": "46af8fa8-17b5-4159-b2c1-e9cdeb2c001c",
   "metadata": {},
   "outputs": [
    {
     "name": "stderr",
     "output_type": "stream",
     "text": [
      "100%|████████████████████████████████████| 10000/10000 [00:20<00:00, 490.39it/s]\n"
     ]
    },
    {
     "data": {
      "text/plain": [
       "0.0"
      ]
     },
     "execution_count": 30,
     "metadata": {},
     "output_type": "execute_result"
    }
   ],
   "source": [
    "from sklearn.metrics import f1_score\n",
    "permutation_test((data_roberta[0] > 0.5), (data_distilbert[0] > threshold), np.array(smaller_tokenized_dataset_roberta[\"test\"][\"label\"]), f1_score)"
   ]
  },
  {
   "cell_type": "markdown",
   "id": "20de7c82-39c5-47e8-b629-513abfe00910",
   "metadata": {},
   "source": [
    "## Evaluation - VennAbers"
   ]
  },
  {
   "cell_type": "markdown",
   "id": "c3e7ba22-12fa-4385-a680-03c75e0c91bb",
   "metadata": {
    "tags": []
   },
   "source": [
    "**Supporting code**"
   ]
  },
  {
   "cell_type": "code",
   "execution_count": 31,
   "id": "ece5c72a-8398-4246-9cc9-c1b9bef169ad",
   "metadata": {},
   "outputs": [],
   "source": [
    "import VennAbers\n",
    "from sklearn.isotonic import IsotonicRegression\n",
    "import seaborn as sns\n",
    "import matplotlib.pyplot as plt\n",
    "from math import floor, ceil, exp\n",
    "from sklearn.calibration import CalibratedClassifierCV\n",
    "\n",
    "def plot_all_score(data):\n",
    "    rng = np.array(list(range(floor(data[0].min()*100), ceil(data[0].max()*100), 1))) / 100\n",
    "    venn_abers = VennAbers.venn_abers_fast(list(zip(data[0], data[1])), rng)\n",
    "    ir = IsotonicRegression()\n",
    "    ir.fit(data[0], data[1])\n",
    "    predicted_proba = ir.predict(rng)\n",
    "    \n",
    "    ps = CalibratedClassifierCV()\n",
    "    ps.fit(data[0].reshape(-1, 1), data[1])\n",
    "    platt_scaling = ps.predict_proba(rng.reshape(-1, 1))[:,1]\n",
    "    \n",
    "    plt.figure(figsize=(10,10))\n",
    "    #sns.lineplot(x=rng, y=(venn_abers[0] + venn_abers[1]) / 2)\n",
    "    plt.fill_between(rng, venn_abers[0], venn_abers[1], color='orange', alpha=1)\n",
    "    #sns.lineplot(x=rng, y=predicted_proba, linestyle='dotted')\n",
    "    sns.lineplot(x=rng, y=platt_scaling)\n",
    "    sns.lineplot(data[0], data[2], color='green', alpha=.65)\n",
    "    plt.axis((floor(data[0].min()), ceil(data[0].max()), 0, 1))\n",
    "    \n",
    "    #xpoints = ypoints = plt.xlim()\n",
    "    #plt.plot(xpoints, ypoints, linestyle='--', color='grey', lw=1, scalex=False, scaley=False)\n",
    "    \n",
    "    plt.xticks(np.arange(floor(data[0].min()), ceil(data[0].max())+0.1, step=0.5))\n",
    "    plt.yticks(np.arange(0, 1.1, step=0.1))\n",
    "    plt.legend([\"Venn-Abers Interval\", \"Platt Scaling\", \"Softmax\"])\n",
    "    plt.xlabel('Score'); plt.ylabel('Calibrated probability')"
   ]
  },
  {
   "cell_type": "markdown",
   "id": "f709b523-2cdf-4e1a-92c9-633b6a0890be",
   "metadata": {},
   "source": [
    "### DistilBERT"
   ]
  },
  {
   "cell_type": "code",
   "execution_count": 32,
   "id": "4363486b-3d77-4c14-afa5-7ecd690ddfa3",
   "metadata": {},
   "outputs": [
    {
     "name": "stderr",
     "output_type": "stream",
     "text": [
      "/Users/q_user/miniforge3/envs/nlp_m1/lib/python3.8/site-packages/seaborn/_decorators.py:36: FutureWarning: Pass the following variables as keyword args: x, y. From version 0.12, the only valid positional argument will be `data`, and passing other arguments without an explicit keyword will result in an error or misinterpretation.\n",
      "  warnings.warn(\n"
     ]
    },
    {
     "data": {
      "image/png": "[encoded data removed]",
      "text/plain": [
       "<Figure size 720x720 with 1 Axes>"
      ]
     },
     "metadata": {
      "needs_background": "light"
     },
     "output_type": "display_data"
    }
   ],
   "source": [
    "plot_all_score(data_distilbert)"
   ]
  },
  {
   "cell_type": "markdown",
   "id": "44e06bc1-9b04-41da-88e7-9c5c0ae30e7a",
   "metadata": {},
   "source": [
    "### RoBERTa"
   ]
  },
  {
   "cell_type": "code",
   "execution_count": 33,
   "id": "56fdbabc-f81e-490f-bbfd-a0432325123d",
   "metadata": {},
   "outputs": [
    {
     "name": "stderr",
     "output_type": "stream",
     "text": [
      "/Users/q_user/miniforge3/envs/nlp_m1/lib/python3.8/site-packages/seaborn/_decorators.py:36: FutureWarning: Pass the following variables as keyword args: x, y. From version 0.12, the only valid positional argument will be `data`, and passing other arguments without an explicit keyword will result in an error or misinterpretation.\n",
      "  warnings.warn(\n"
     ]
    },
    {
     "data": {
      "image/png": "[encoded data removed]",
      "text/plain": [
       "<Figure size 720x720 with 1 Axes>"
      ]
     },
     "metadata": {
      "needs_background": "light"
     },
     "output_type": "display_data"
    }
   ],
   "source": [
    "plot_all_score(data_roberta)"
   ]
  },
  {
   "cell_type": "markdown",
   "id": "22a59e9a-e53e-4f28-ba83-0af925633dc7",
   "metadata": {},
   "source": [
    "## Time evaluation"
   ]
  },
  {
   "cell_type": "code",
   "execution_count": 35,
   "id": "8b03c1e6-d1c2-4d37-84ae-8a7b6aae154a",
   "metadata": {},
   "outputs": [],
   "source": [
    "import time\n",
    "import VennAbers\n",
    "from tqdm import tqdm\n",
    "data_time_eval = data_distilbert"
   ]
  },
  {
   "cell_type": "code",
   "execution_count": 38,
   "id": "b411ffae-9bcd-440d-b1ae-5ca51bc167cf",
   "metadata": {},
   "outputs": [],
   "source": [
    "def time_eval_slow(rounds=10):\n",
    "    total_time = 0\n",
    "    for i in range(rounds):\n",
    "        start = time.time()\n",
    "        for s_x_test in (np.array(list(range(0, 101, 1))) / 100):\n",
    "            venn_abers = VennAbers.venn_abers(list(zip(data_time_eval[0], data_time_eval[1])), s_x_test)\n",
    "        end = time.time()\n",
    "        total_time += end - start\n",
    "    return total_time / rounds * 1000"
   ]
  },
  {
   "cell_type": "code",
   "execution_count": 39,
   "id": "808c0b12-d508-4648-b534-b5ab00cbe4d2",
   "metadata": {},
   "outputs": [],
   "source": [
    "def time_eval_fast(rounds=10):\n",
    "    total_time = 0\n",
    "    for i in range(rounds):\n",
    "        start = time.time()\n",
    "        venn_abers = VennAbers.venn_abers_fast(list(zip(data_time_eval[0], data_time_eval[1])), np.array(list(range(0, 101, 1))) / 100)\n",
    "        end = time.time()\n",
    "        total_time += end - start\n",
    "    return total_time / rounds * 1000"
   ]
  },
  {
   "cell_type": "code",
   "execution_count": 40,
   "id": "a533557a-5c5b-49bd-ac9f-74b2f9f5112e",
   "metadata": {},
   "outputs": [
    {
     "name": "stdout",
     "output_type": "stream",
     "text": [
      "Slow Venn-Abers (avg. - 100 runs): 172 ms\n",
      "Fast Venn-Abers (avg. - 100 runs): 83 ms\n",
      "Average speed-up of 2.1x (100 runs)\n"
     ]
    }
   ],
   "source": [
    "time_slow, time_fast = time_eval_slow(), time_eval_fast()\n",
    "print(f\"Slow Venn-Abers (avg. - 100 runs): {round(time_slow)} ms\")\n",
    "print(f\"Fast Venn-Abers (avg. - 100 runs): {round(time_fast)} ms\")\n",
    "print(f\"Average speed-up of {round((1/time_fast) / (1/time_slow), 1)}x (100 runs)\")"
   ]
  },
  {
   "cell_type": "markdown",
   "id": "0e503f62-85ce-428e-a747-14031e44f64a",
   "metadata": {},
   "source": [
    "## Evaluation - Conformal"
   ]
  },
  {
   "cell_type": "code",
   "execution_count": 43,
   "id": "fc6ff095-fbd5-49be-9649-21d0717291d0",
   "metadata": {},
   "outputs": [],
   "source": [
    "from tqdm import tqdm\n",
    "\n",
    "def eval_conformal_prediction(model, dataset, test_dataset):\n",
    "    predicted_calib = model.predict(dataset[\"calib\"])\n",
    "    y_hat_calib = torch.tensor(predicted_calib.predictions)\n",
    "    y_calib = np.array(dataset[\"calib\"][\"label\"])\n",
    "    \n",
    "    avg_err = 0\n",
    "    n = int(len(test_dataset)/2000)\n",
    "    n = 10\n",
    "    for i in tqdm(range(n)):\n",
    "        test_dataset_slice = test_dataset.filter(lambda e, i_f: i_f>=i*2000 and i_f<(i+1)*2000, with_indices=True)\n",
    "        \n",
    "        predicted_test = model.predict(test_dataset_slice)\n",
    "        y_hat_test = torch.tensor(predicted_test.predictions)\n",
    "        \n",
    "        prediction_sets = conformal_prediction(y_calib, y_hat_calib, y_hat_test)\n",
    "        \n",
    "        avg_err += eval_conformal_prediction_single(prediction_sets, test_dataset_slice['label'])\n",
    "    return avg_err / n\n",
    "\n",
    "def eval_conformal_prediction_single(prediction_sets, y):\n",
    "    for a, b in zip(prediction_sets, y):\n",
    "        c = 0\n",
    "        if b in a:\n",
    "            c += 1\n",
    "    return 1 - (c / len(prediction_sets))\n",
    "        \n",
    "\n",
    "def run_conformal_prediction(model, dataset):\n",
    "    predicted_calib = model.predict(dataset[\"calib\"])\n",
    "    y_hat_calib = torch.tensor(predicted_calib.predictions)\n",
    "\n",
    "    predicted_test = model.predict(dataset[\"test\"])\n",
    "    y_hat_test = torch.tensor(predicted_test.predictions)\n",
    "\n",
    "    y_calib = np.array(dataset[\"calib\"][\"label\"])\n",
    "    \n",
    "    return conformal_prediction(y_calib, y_hat_calib, y_hat_test)\n",
    "\n",
    "def conformal_prediction(y_calib, y_hat_calib, y_hat_test, alpha=0.1):\n",
    "    sorted, pi = y_hat_calib.softmax(dim=1).sort(dim=1,descending=True)\n",
    "    scores = sorted.cumsum(dim=1).gather(1, pi.argsort(1))[range(y_calib.shape[0]),y_calib]\n",
    "    \n",
    "    qhat = torch.quantile(scores, np.ceil((y_hat_test.shape[0]+1)*(1-alpha))/y_hat_test.shape[0])\n",
    "    \n",
    "    test_sorted, test_pi = y_hat_test.softmax(dim=1).sort(dim=1, descending=True)\n",
    "    sizes = (test_sorted.cumsum(dim=1) > qhat).int().argmax(dim=1)\n",
    "    prediction_sets = [ test_pi[i][:(sizes[i]+1)] for i in range(sizes.shape[0]) ]\n",
    "    return prediction_sets"
   ]
  },
  {
   "cell_type": "code",
   "execution_count": 44,
   "id": "0358fd2c-1e41-4225-bc8d-476e154d9d1e",
   "metadata": {},
   "outputs": [
    {
     "name": "stderr",
     "output_type": "stream",
     "text": [
      "The following columns in the test set  don't have a corresponding argument in `DistilBertForSequenceClassification.forward` and have been ignored: title, content.\n",
      "***** Running Prediction *****\n",
      "  Num examples = 2000\n",
      "  Batch size = 32\n",
      "  0%|                                                    | 0/10 [00:00<?, ?it/s]The following columns in the test set  don't have a corresponding argument in `DistilBertForSequenceClassification.forward` and have been ignored: title, content.\n",
      "***** Running Prediction *****\n",
      "  Num examples = 2000\n",
      "  Batch size = 32\n",
      " 10%|████▍                                       | 1/10 [00:21<03:11, 21.28s/it]The following columns in the test set  don't have a corresponding argument in `DistilBertForSequenceClassification.forward` and have been ignored: title, content.\n",
      "***** Running Prediction *****\n",
      "  Num examples = 2000\n",
      "  Batch size = 32\n",
      " 20%|████████▊                                   | 2/10 [00:42<02:51, 21.47s/it]"
     ]
    },
    {
     "data": {
      "application/vnd.jupyter.widget-view+json": {
       "model_id": "642c9d54e2dc4329b4c17eaf9f228dbb",
       "version_major": 2,
       "version_minor": 0
      },
      "text/plain": [
       "  0%|          | 0/400 [00:00<?, ?ba/s]"
      ]
     },
     "metadata": {},
     "output_type": "display_data"
    },
    {
     "name": "stderr",
     "output_type": "stream",
     "text": [
      "The following columns in the test set  don't have a corresponding argument in `DistilBertForSequenceClassification.forward` and have been ignored: title, content.\n",
      "***** Running Prediction *****\n",
      "  Num examples = 2000\n",
      "  Batch size = 32\n",
      " 30%|█████████████▏                              | 3/10 [01:07<02:41, 23.09s/it]"
     ]
    },
    {
     "data": {
      "application/vnd.jupyter.widget-view+json": {
       "model_id": "c8bbe94e24eb4c638acf653cfdacb0ec",
       "version_major": 2,
       "version_minor": 0
      },
      "text/plain": [
       "  0%|          | 0/400 [00:00<?, ?ba/s]"
      ]
     },
     "metadata": {},
     "output_type": "display_data"
    },
    {
     "name": "stderr",
     "output_type": "stream",
     "text": [
      "The following columns in the test set  don't have a corresponding argument in `DistilBertForSequenceClassification.forward` and have been ignored: title, content.\n",
      "***** Running Prediction *****\n",
      "  Num examples = 2000\n",
      "  Batch size = 32\n",
      " 40%|█████████████████▌                          | 4/10 [01:32<02:21, 23.58s/it]"
     ]
    },
    {
     "data": {
      "application/vnd.jupyter.widget-view+json": {
       "model_id": "b63d723a9f8243b9bb4c12839fe00c1c",
       "version_major": 2,
       "version_minor": 0
      },
      "text/plain": [
       "  0%|          | 0/400 [00:00<?, ?ba/s]"
      ]
     },
     "metadata": {},
     "output_type": "display_data"
    },
    {
     "name": "stderr",
     "output_type": "stream",
     "text": [
      "The following columns in the test set  don't have a corresponding argument in `DistilBertForSequenceClassification.forward` and have been ignored: title, content.\n",
      "***** Running Prediction *****\n",
      "  Num examples = 2000\n",
      "  Batch size = 32\n",
      " 50%|██████████████████████                      | 5/10 [01:56<01:58, 23.75s/it]"
     ]
    },
    {
     "data": {
      "application/vnd.jupyter.widget-view+json": {
       "model_id": "e2a2d11a18f74c379bfa7b013165f6af",
       "version_major": 2,
       "version_minor": 0
      },
      "text/plain": [
       "  0%|          | 0/400 [00:00<?, ?ba/s]"
      ]
     },
     "metadata": {},
     "output_type": "display_data"
    },
    {
     "name": "stderr",
     "output_type": "stream",
     "text": [
      "The following columns in the test set  don't have a corresponding argument in `DistilBertForSequenceClassification.forward` and have been ignored: title, content.\n",
      "***** Running Prediction *****\n",
      "  Num examples = 2000\n",
      "  Batch size = 32\n",
      " 60%|██████████████████████████▍                 | 6/10 [02:21<01:36, 24.15s/it]"
     ]
    },
    {
     "data": {
      "application/vnd.jupyter.widget-view+json": {
       "model_id": "08b4d7581fcc4ad88f74e34a406d6f37",
       "version_major": 2,
       "version_minor": 0
      },
      "text/plain": [
       "  0%|          | 0/400 [00:00<?, ?ba/s]"
      ]
     },
     "metadata": {},
     "output_type": "display_data"
    },
    {
     "name": "stderr",
     "output_type": "stream",
     "text": [
      "The following columns in the test set  don't have a corresponding argument in `DistilBertForSequenceClassification.forward` and have been ignored: title, content.\n",
      "***** Running Prediction *****\n",
      "  Num examples = 2000\n",
      "  Batch size = 32\n",
      " 70%|██████████████████████████████▊             | 7/10 [02:49<01:16, 25.44s/it]"
     ]
    },
    {
     "data": {
      "application/vnd.jupyter.widget-view+json": {
       "model_id": "eb6a92a613aa492daaa6c0328b993e37",
       "version_major": 2,
       "version_minor": 0
      },
      "text/plain": [
       "  0%|          | 0/400 [00:00<?, ?ba/s]"
      ]
     },
     "metadata": {},
     "output_type": "display_data"
    },
    {
     "name": "stderr",
     "output_type": "stream",
     "text": [
      "The following columns in the test set  don't have a corresponding argument in `DistilBertForSequenceClassification.forward` and have been ignored: title, content.\n",
      "***** Running Prediction *****\n",
      "  Num examples = 2000\n",
      "  Batch size = 32\n",
      " 80%|███████████████████████████████████▏        | 8/10 [03:16<00:51, 25.96s/it]"
     ]
    },
    {
     "data": {
      "application/vnd.jupyter.widget-view+json": {
       "model_id": "a65462edc55448b3be7646dec990e8d1",
       "version_major": 2,
       "version_minor": 0
      },
      "text/plain": [
       "  0%|          | 0/400 [00:00<?, ?ba/s]"
      ]
     },
     "metadata": {},
     "output_type": "display_data"
    },
    {
     "name": "stderr",
     "output_type": "stream",
     "text": [
      "The following columns in the test set  don't have a corresponding argument in `DistilBertForSequenceClassification.forward` and have been ignored: title, content.\n",
      "***** Running Prediction *****\n",
      "  Num examples = 2000\n",
      "  Batch size = 32\n",
      " 90%|███████████████████████████████████████▌    | 9/10 [03:40<00:25, 25.50s/it]"
     ]
    },
    {
     "data": {
      "application/vnd.jupyter.widget-view+json": {
       "model_id": "fbe9441fe5ea47d8944b7a6b89e0becc",
       "version_major": 2,
       "version_minor": 0
      },
      "text/plain": [
       "  0%|          | 0/400 [00:00<?, ?ba/s]"
      ]
     },
     "metadata": {},
     "output_type": "display_data"
    },
    {
     "name": "stderr",
     "output_type": "stream",
     "text": [
      "The following columns in the test set  don't have a corresponding argument in `DistilBertForSequenceClassification.forward` and have been ignored: title, content.\n",
      "***** Running Prediction *****\n",
      "  Num examples = 2000\n",
      "  Batch size = 32\n",
      "100%|███████████████████████████████████████████| 10/10 [04:04<00:00, 24.46s/it]\n"
     ]
    }
   ],
   "source": [
    "metric = eval_conformal_prediction(trainer_distilbert, smaller_tokenized_dataset_distilbert, tokenized_dataset_distilbert)"
   ]
  },
  {
   "cell_type": "code",
   "execution_count": 46,
   "id": "985163fe-f910-4a78-aa92-7d4f0d69b379",
   "metadata": {},
   "outputs": [
    {
     "data": {
      "text/plain": [
       "0.9996"
      ]
     },
     "execution_count": 46,
     "metadata": {},
     "output_type": "execute_result"
    }
   ],
   "source": [
    "metric"
   ]
  },
  {
   "cell_type": "code",
   "execution_count": 45,
   "id": "bf3127eb-66a2-4bac-acee-99f6227094ef",
   "metadata": {},
   "outputs": [
    {
     "name": "stderr",
     "output_type": "stream",
     "text": [
      "The following columns in the test set  don't have a corresponding argument in `DistilBertForSequenceClassification.forward` and have been ignored: title, content.\n",
      "***** Running Prediction *****\n",
      "  Num examples = 2000\n",
      "  Batch size = 32\n",
      "The following columns in the test set  don't have a corresponding argument in `DistilBertForSequenceClassification.forward` and have been ignored: title, content.\n",
      "***** Running Prediction *****\n",
      "  Num examples = 2000\n",
      "  Batch size = 32\n"
     ]
    }
   ],
   "source": [
    "prediction_sets = run_conformal_prediction(trainer_distilbert, smaller_tokenized_dataset_distilbert)"
   ]
  },
  {
   "cell_type": "code",
   "execution_count": 48,
   "id": "6dfe5ef9-9bfc-4966-8212-adbf479eb927",
   "metadata": {},
   "outputs": [
    {
     "data": {
      "text/plain": [
       "[tensor([1]),\n",
       " tensor([0]),\n",
       " tensor([0]),\n",
       " tensor([1]),\n",
       " tensor([1]),\n",
       " tensor([0]),\n",
       " tensor([0]),\n",
       " tensor([0, 1]),\n",
       " tensor([1]),\n",
       " tensor([0]),\n",
       " tensor([1]),\n",
       " tensor([0]),\n",
       " tensor([0]),\n",
       " tensor([1]),\n",
       " tensor([0]),\n",
       " tensor([0]),\n",
       " tensor([1]),\n",
       " tensor([1]),\n",
       " tensor([1]),\n",
       " tensor([1]),\n",
       " tensor([0]),\n",
       " tensor([0, 1]),\n",
       " tensor([1]),\n",
       " tensor([1]),\n",
       " tensor([0]),\n",
       " tensor([0]),\n",
       " tensor([1, 0]),\n",
       " tensor([0]),\n",
       " tensor([0]),\n",
       " tensor([0]),\n",
       " tensor([1]),\n",
       " tensor([1]),\n",
       " tensor([1, 0]),\n",
       " tensor([1]),\n",
       " tensor([0]),\n",
       " tensor([0]),\n",
       " tensor([1]),\n",
       " tensor([0]),\n",
       " tensor([0]),\n",
       " tensor([1]),\n",
       " tensor([1]),\n",
       " tensor([0]),\n",
       " tensor([0]),\n",
       " tensor([0]),\n",
       " tensor([1]),\n",
       " tensor([0]),\n",
       " tensor([1]),\n",
       " tensor([0]),\n",
       " tensor([0]),\n",
       " tensor([1, 0]),\n",
       " tensor([1]),\n",
       " tensor([0, 1]),\n",
       " tensor([0]),\n",
       " tensor([0]),\n",
       " tensor([1]),\n",
       " tensor([1]),\n",
       " tensor([0]),\n",
       " tensor([1, 0]),\n",
       " tensor([1]),\n",
       " tensor([1]),\n",
       " tensor([1]),\n",
       " tensor([0]),\n",
       " tensor([1]),\n",
       " tensor([0]),\n",
       " tensor([0]),\n",
       " tensor([1]),\n",
       " tensor([1]),\n",
       " tensor([0]),\n",
       " tensor([0]),\n",
       " tensor([1]),\n",
       " tensor([1]),\n",
       " tensor([0]),\n",
       " tensor([0]),\n",
       " tensor([0]),\n",
       " tensor([0]),\n",
       " tensor([1]),\n",
       " tensor([1]),\n",
       " tensor([1]),\n",
       " tensor([0]),\n",
       " tensor([0]),\n",
       " tensor([1]),\n",
       " tensor([1]),\n",
       " tensor([1]),\n",
       " tensor([1]),\n",
       " tensor([0, 1]),\n",
       " tensor([0]),\n",
       " tensor([1]),\n",
       " tensor([0]),\n",
       " tensor([1]),\n",
       " tensor([1]),\n",
       " tensor([0]),\n",
       " tensor([1]),\n",
       " tensor([0]),\n",
       " tensor([0]),\n",
       " tensor([0]),\n",
       " tensor([1]),\n",
       " tensor([0]),\n",
       " tensor([1]),\n",
       " tensor([0]),\n",
       " tensor([0]),\n",
       " tensor([0]),\n",
       " tensor([1]),\n",
       " tensor([0]),\n",
       " tensor([0]),\n",
       " tensor([0]),\n",
       " tensor([0]),\n",
       " tensor([1, 0]),\n",
       " tensor([0]),\n",
       " tensor([0]),\n",
       " tensor([0]),\n",
       " tensor([0]),\n",
       " tensor([1]),\n",
       " tensor([0]),\n",
       " tensor([1, 0]),\n",
       " tensor([0]),\n",
       " tensor([1]),\n",
       " tensor([1]),\n",
       " tensor([1]),\n",
       " tensor([0]),\n",
       " tensor([1]),\n",
       " tensor([1]),\n",
       " tensor([1]),\n",
       " tensor([1]),\n",
       " tensor([0]),\n",
       " tensor([1]),\n",
       " tensor([1, 0]),\n",
       " tensor([1]),\n",
       " tensor([1, 0]),\n",
       " tensor([1]),\n",
       " tensor([1, 0]),\n",
       " tensor([0]),\n",
       " tensor([0]),\n",
       " tensor([1]),\n",
       " tensor([1]),\n",
       " tensor([1]),\n",
       " tensor([1]),\n",
       " tensor([1]),\n",
       " tensor([1]),\n",
       " tensor([0]),\n",
       " tensor([1]),\n",
       " tensor([1]),\n",
       " tensor([0]),\n",
       " tensor([0]),\n",
       " tensor([0]),\n",
       " tensor([1, 0]),\n",
       " tensor([1]),\n",
       " tensor([1]),\n",
       " tensor([0]),\n",
       " tensor([0]),\n",
       " tensor([1]),\n",
       " tensor([0]),\n",
       " tensor([0]),\n",
       " tensor([0]),\n",
       " tensor([0]),\n",
       " tensor([1]),\n",
       " tensor([1]),\n",
       " tensor([0]),\n",
       " tensor([1]),\n",
       " tensor([1]),\n",
       " tensor([1, 0]),\n",
       " tensor([0]),\n",
       " tensor([1]),\n",
       " tensor([1]),\n",
       " tensor([1]),\n",
       " tensor([1]),\n",
       " tensor([1]),\n",
       " tensor([1]),\n",
       " tensor([0]),\n",
       " tensor([1]),\n",
       " tensor([0]),\n",
       " tensor([1]),\n",
       " tensor([1]),\n",
       " tensor([1]),\n",
       " tensor([0]),\n",
       " tensor([0]),\n",
       " tensor([0]),\n",
       " tensor([0]),\n",
       " tensor([0]),\n",
       " tensor([1]),\n",
       " tensor([1]),\n",
       " tensor([0]),\n",
       " tensor([0]),\n",
       " tensor([0]),\n",
       " tensor([0]),\n",
       " tensor([0]),\n",
       " tensor([1]),\n",
       " tensor([1]),\n",
       " tensor([1]),\n",
       " tensor([1]),\n",
       " tensor([1]),\n",
       " tensor([0]),\n",
       " tensor([1]),\n",
       " tensor([0]),\n",
       " tensor([1]),\n",
       " tensor([0]),\n",
       " tensor([1]),\n",
       " tensor([0]),\n",
       " tensor([0]),\n",
       " tensor([0]),\n",
       " tensor([1]),\n",
       " tensor([0]),\n",
       " tensor([1]),\n",
       " tensor([0]),\n",
       " tensor([0]),\n",
       " tensor([0]),\n",
       " tensor([0]),\n",
       " tensor([1]),\n",
       " tensor([1]),\n",
       " tensor([0]),\n",
       " tensor([0]),\n",
       " tensor([1]),\n",
       " tensor([0]),\n",
       " tensor([0]),\n",
       " tensor([1]),\n",
       " tensor([1]),\n",
       " tensor([0]),\n",
       " tensor([0]),\n",
       " tensor([1]),\n",
       " tensor([0]),\n",
       " tensor([0]),\n",
       " tensor([1]),\n",
       " tensor([0]),\n",
       " tensor([1]),\n",
       " tensor([1]),\n",
       " tensor([0, 1]),\n",
       " tensor([1]),\n",
       " tensor([1]),\n",
       " tensor([0]),\n",
       " tensor([0]),\n",
       " tensor([1]),\n",
       " tensor([1]),\n",
       " tensor([1]),\n",
       " tensor([0]),\n",
       " tensor([0]),\n",
       " tensor([0]),\n",
       " tensor([0]),\n",
       " tensor([1]),\n",
       " tensor([1]),\n",
       " tensor([0]),\n",
       " tensor([1]),\n",
       " tensor([1]),\n",
       " tensor([1]),\n",
       " tensor([0]),\n",
       " tensor([1]),\n",
       " tensor([1]),\n",
       " tensor([1]),\n",
       " tensor([1]),\n",
       " tensor([1]),\n",
       " tensor([1]),\n",
       " tensor([1]),\n",
       " tensor([1]),\n",
       " tensor([1]),\n",
       " tensor([1]),\n",
       " tensor([0]),\n",
       " tensor([0]),\n",
       " tensor([1]),\n",
       " tensor([1]),\n",
       " tensor([0]),\n",
       " tensor([0]),\n",
       " tensor([0]),\n",
       " tensor([0]),\n",
       " tensor([1, 0]),\n",
       " tensor([0]),\n",
       " tensor([0]),\n",
       " tensor([1]),\n",
       " tensor([0]),\n",
       " tensor([1]),\n",
       " tensor([1]),\n",
       " tensor([0]),\n",
       " tensor([1]),\n",
       " tensor([0, 1]),\n",
       " tensor([1]),\n",
       " tensor([0]),\n",
       " tensor([0, 1]),\n",
       " tensor([0]),\n",
       " tensor([0]),\n",
       " tensor([1]),\n",
       " tensor([1]),\n",
       " tensor([1]),\n",
       " tensor([0]),\n",
       " tensor([1]),\n",
       " tensor([1]),\n",
       " tensor([1]),\n",
       " tensor([0]),\n",
       " tensor([0]),\n",
       " tensor([0]),\n",
       " tensor([0]),\n",
       " tensor([0]),\n",
       " tensor([1]),\n",
       " tensor([1, 0]),\n",
       " tensor([0]),\n",
       " tensor([0]),\n",
       " tensor([0]),\n",
       " tensor([0]),\n",
       " tensor([1]),\n",
       " tensor([1]),\n",
       " tensor([0]),\n",
       " tensor([0]),\n",
       " tensor([0]),\n",
       " tensor([0]),\n",
       " tensor([0, 1]),\n",
       " tensor([0]),\n",
       " tensor([1]),\n",
       " tensor([1]),\n",
       " tensor([1]),\n",
       " tensor([0]),\n",
       " tensor([0]),\n",
       " tensor([0]),\n",
       " tensor([1]),\n",
       " tensor([0]),\n",
       " tensor([0]),\n",
       " tensor([1]),\n",
       " tensor([1]),\n",
       " tensor([0]),\n",
       " tensor([0]),\n",
       " tensor([0]),\n",
       " tensor([0]),\n",
       " tensor([1]),\n",
       " tensor([1]),\n",
       " tensor([1, 0]),\n",
       " tensor([1]),\n",
       " tensor([1]),\n",
       " tensor([1]),\n",
       " tensor([0]),\n",
       " tensor([1]),\n",
       " tensor([1]),\n",
       " tensor([0]),\n",
       " tensor([0]),\n",
       " tensor([0]),\n",
       " tensor([1]),\n",
       " tensor([1]),\n",
       " tensor([0]),\n",
       " tensor([1]),\n",
       " tensor([0]),\n",
       " tensor([0]),\n",
       " tensor([0]),\n",
       " tensor([0]),\n",
       " tensor([0]),\n",
       " tensor([1]),\n",
       " tensor([0]),\n",
       " tensor([0]),\n",
       " tensor([0]),\n",
       " tensor([1]),\n",
       " tensor([0]),\n",
       " tensor([0]),\n",
       " tensor([0]),\n",
       " tensor([1]),\n",
       " tensor([0]),\n",
       " tensor([1]),\n",
       " tensor([1, 0]),\n",
       " tensor([0]),\n",
       " tensor([1]),\n",
       " tensor([1]),\n",
       " tensor([0]),\n",
       " tensor([0]),\n",
       " tensor([1]),\n",
       " tensor([0]),\n",
       " tensor([0]),\n",
       " tensor([0]),\n",
       " tensor([0]),\n",
       " tensor([0]),\n",
       " tensor([0]),\n",
       " tensor([0]),\n",
       " tensor([0]),\n",
       " tensor([0]),\n",
       " tensor([0]),\n",
       " tensor([0]),\n",
       " tensor([0]),\n",
       " tensor([0]),\n",
       " tensor([0]),\n",
       " tensor([0]),\n",
       " tensor([0]),\n",
       " tensor([0]),\n",
       " tensor([0]),\n",
       " tensor([0]),\n",
       " tensor([0]),\n",
       " tensor([1, 0]),\n",
       " tensor([1]),\n",
       " tensor([1]),\n",
       " tensor([0]),\n",
       " tensor([0]),\n",
       " tensor([1]),\n",
       " tensor([1]),\n",
       " tensor([1]),\n",
       " tensor([0]),\n",
       " tensor([0]),\n",
       " tensor([1]),\n",
       " tensor([1]),\n",
       " tensor([1]),\n",
       " tensor([1]),\n",
       " tensor([1]),\n",
       " tensor([1]),\n",
       " tensor([0]),\n",
       " tensor([0]),\n",
       " tensor([0]),\n",
       " tensor([1]),\n",
       " tensor([0]),\n",
       " tensor([1]),\n",
       " tensor([1]),\n",
       " tensor([1]),\n",
       " tensor([1]),\n",
       " tensor([0, 1]),\n",
       " tensor([1]),\n",
       " tensor([1, 0]),\n",
       " tensor([0]),\n",
       " tensor([1]),\n",
       " tensor([0]),\n",
       " tensor([1]),\n",
       " tensor([1]),\n",
       " tensor([0]),\n",
       " tensor([0]),\n",
       " tensor([1]),\n",
       " tensor([1]),\n",
       " tensor([0]),\n",
       " tensor([1]),\n",
       " tensor([1]),\n",
       " tensor([0]),\n",
       " tensor([1]),\n",
       " tensor([1]),\n",
       " tensor([0]),\n",
       " tensor([1]),\n",
       " tensor([0]),\n",
       " tensor([1]),\n",
       " tensor([0]),\n",
       " tensor([1]),\n",
       " tensor([0]),\n",
       " tensor([0]),\n",
       " tensor([0]),\n",
       " tensor([0]),\n",
       " tensor([1]),\n",
       " tensor([1]),\n",
       " tensor([0]),\n",
       " tensor([0]),\n",
       " tensor([1]),\n",
       " tensor([1]),\n",
       " tensor([1]),\n",
       " tensor([1]),\n",
       " tensor([1]),\n",
       " tensor([1]),\n",
       " tensor([0]),\n",
       " tensor([0]),\n",
       " tensor([1]),\n",
       " tensor([1]),\n",
       " tensor([1]),\n",
       " tensor([1]),\n",
       " tensor([0]),\n",
       " tensor([1]),\n",
       " tensor([1]),\n",
       " tensor([1]),\n",
       " tensor([0]),\n",
       " tensor([1]),\n",
       " tensor([0]),\n",
       " tensor([0]),\n",
       " tensor([1]),\n",
       " tensor([1]),\n",
       " tensor([1]),\n",
       " tensor([1]),\n",
       " tensor([1]),\n",
       " tensor([1]),\n",
       " tensor([0]),\n",
       " tensor([0]),\n",
       " tensor([0]),\n",
       " tensor([1]),\n",
       " tensor([0]),\n",
       " tensor([0]),\n",
       " tensor([1]),\n",
       " tensor([0]),\n",
       " tensor([1]),\n",
       " tensor([1]),\n",
       " tensor([1, 0]),\n",
       " tensor([1]),\n",
       " tensor([1]),\n",
       " tensor([0]),\n",
       " tensor([0]),\n",
       " tensor([1]),\n",
       " tensor([1]),\n",
       " tensor([0]),\n",
       " tensor([0]),\n",
       " tensor([1]),\n",
       " tensor([1, 0]),\n",
       " tensor([1]),\n",
       " tensor([1]),\n",
       " tensor([0, 1]),\n",
       " tensor([1]),\n",
       " tensor([0]),\n",
       " tensor([1]),\n",
       " tensor([0]),\n",
       " tensor([0]),\n",
       " tensor([0]),\n",
       " tensor([1]),\n",
       " tensor([0]),\n",
       " tensor([0]),\n",
       " tensor([0]),\n",
       " tensor([0]),\n",
       " tensor([1]),\n",
       " tensor([1]),\n",
       " tensor([0]),\n",
       " tensor([1]),\n",
       " tensor([1, 0]),\n",
       " tensor([0]),\n",
       " tensor([0]),\n",
       " tensor([0]),\n",
       " tensor([0]),\n",
       " tensor([0]),\n",
       " tensor([0]),\n",
       " tensor([1]),\n",
       " tensor([1]),\n",
       " tensor([1]),\n",
       " tensor([1]),\n",
       " tensor([1]),\n",
       " tensor([1]),\n",
       " tensor([0]),\n",
       " tensor([0]),\n",
       " tensor([0]),\n",
       " tensor([0]),\n",
       " tensor([0]),\n",
       " tensor([1]),\n",
       " tensor([0]),\n",
       " tensor([1]),\n",
       " tensor([0]),\n",
       " tensor([0]),\n",
       " tensor([1]),\n",
       " tensor([1]),\n",
       " tensor([0]),\n",
       " tensor([0]),\n",
       " tensor([0]),\n",
       " tensor([1]),\n",
       " tensor([1, 0]),\n",
       " tensor([1]),\n",
       " tensor([1]),\n",
       " tensor([1]),\n",
       " tensor([1]),\n",
       " tensor([0]),\n",
       " tensor([1, 0]),\n",
       " tensor([0]),\n",
       " tensor([1]),\n",
       " tensor([0]),\n",
       " tensor([1]),\n",
       " tensor([1]),\n",
       " tensor([1]),\n",
       " tensor([0]),\n",
       " tensor([0]),\n",
       " tensor([0]),\n",
       " tensor([1]),\n",
       " tensor([0]),\n",
       " tensor([0]),\n",
       " tensor([0]),\n",
       " tensor([1]),\n",
       " tensor([1]),\n",
       " tensor([1]),\n",
       " tensor([0]),\n",
       " tensor([0]),\n",
       " tensor([1]),\n",
       " tensor([0]),\n",
       " tensor([1]),\n",
       " tensor([1]),\n",
       " tensor([1]),\n",
       " tensor([1]),\n",
       " tensor([0]),\n",
       " tensor([0]),\n",
       " tensor([0]),\n",
       " tensor([1]),\n",
       " tensor([1]),\n",
       " tensor([0]),\n",
       " tensor([0]),\n",
       " tensor([1, 0]),\n",
       " tensor([1]),\n",
       " tensor([1]),\n",
       " tensor([1]),\n",
       " tensor([1]),\n",
       " tensor([1]),\n",
       " tensor([1]),\n",
       " tensor([1]),\n",
       " tensor([1, 0]),\n",
       " tensor([0]),\n",
       " tensor([1]),\n",
       " tensor([1]),\n",
       " tensor([1]),\n",
       " tensor([0]),\n",
       " tensor([0]),\n",
       " tensor([1]),\n",
       " tensor([0]),\n",
       " tensor([1]),\n",
       " tensor([0]),\n",
       " tensor([0, 1]),\n",
       " tensor([0]),\n",
       " tensor([1]),\n",
       " tensor([1]),\n",
       " tensor([0]),\n",
       " tensor([0]),\n",
       " tensor([0, 1]),\n",
       " tensor([0]),\n",
       " tensor([1]),\n",
       " tensor([0, 1]),\n",
       " tensor([0]),\n",
       " tensor([1]),\n",
       " tensor([1]),\n",
       " tensor([0]),\n",
       " tensor([0]),\n",
       " tensor([1]),\n",
       " tensor([0]),\n",
       " tensor([0]),\n",
       " tensor([0]),\n",
       " tensor([0]),\n",
       " tensor([0]),\n",
       " tensor([1]),\n",
       " tensor([0]),\n",
       " tensor([0]),\n",
       " tensor([1]),\n",
       " tensor([1]),\n",
       " tensor([0]),\n",
       " tensor([1]),\n",
       " tensor([0]),\n",
       " tensor([0]),\n",
       " tensor([0]),\n",
       " tensor([0]),\n",
       " tensor([0, 1]),\n",
       " tensor([0]),\n",
       " tensor([1]),\n",
       " tensor([1, 0]),\n",
       " tensor([0]),\n",
       " tensor([0]),\n",
       " tensor([0]),\n",
       " tensor([1]),\n",
       " tensor([0]),\n",
       " tensor([0]),\n",
       " tensor([0]),\n",
       " tensor([0]),\n",
       " tensor([1]),\n",
       " tensor([1]),\n",
       " tensor([0]),\n",
       " tensor([0, 1]),\n",
       " tensor([0]),\n",
       " tensor([1]),\n",
       " tensor([0]),\n",
       " tensor([1]),\n",
       " tensor([0]),\n",
       " tensor([0]),\n",
       " tensor([0]),\n",
       " tensor([0]),\n",
       " tensor([1]),\n",
       " tensor([0]),\n",
       " tensor([0]),\n",
       " tensor([1]),\n",
       " tensor([1]),\n",
       " tensor([1]),\n",
       " tensor([1]),\n",
       " tensor([1]),\n",
       " tensor([0]),\n",
       " tensor([0]),\n",
       " tensor([1]),\n",
       " tensor([1]),\n",
       " tensor([1]),\n",
       " tensor([0]),\n",
       " tensor([0]),\n",
       " tensor([0]),\n",
       " tensor([0]),\n",
       " tensor([0]),\n",
       " tensor([0]),\n",
       " tensor([0]),\n",
       " tensor([0]),\n",
       " tensor([0]),\n",
       " tensor([1]),\n",
       " tensor([1]),\n",
       " tensor([1]),\n",
       " tensor([1]),\n",
       " tensor([0]),\n",
       " tensor([1]),\n",
       " tensor([1]),\n",
       " tensor([1]),\n",
       " tensor([1]),\n",
       " tensor([0]),\n",
       " tensor([1]),\n",
       " tensor([1]),\n",
       " tensor([1]),\n",
       " tensor([0]),\n",
       " tensor([1]),\n",
       " tensor([1]),\n",
       " tensor([1]),\n",
       " tensor([0]),\n",
       " tensor([1]),\n",
       " tensor([1]),\n",
       " tensor([1]),\n",
       " tensor([1]),\n",
       " tensor([1]),\n",
       " tensor([1]),\n",
       " tensor([1]),\n",
       " tensor([1]),\n",
       " tensor([1]),\n",
       " tensor([1]),\n",
       " tensor([1]),\n",
       " tensor([1]),\n",
       " tensor([1]),\n",
       " tensor([0]),\n",
       " tensor([0]),\n",
       " tensor([0]),\n",
       " tensor([0]),\n",
       " tensor([0]),\n",
       " tensor([1]),\n",
       " tensor([1]),\n",
       " tensor([0]),\n",
       " tensor([0]),\n",
       " tensor([1]),\n",
       " tensor([0]),\n",
       " tensor([1]),\n",
       " tensor([1]),\n",
       " tensor([1]),\n",
       " tensor([1]),\n",
       " tensor([1]),\n",
       " tensor([0]),\n",
       " tensor([1]),\n",
       " tensor([0]),\n",
       " tensor([0]),\n",
       " tensor([0]),\n",
       " tensor([0, 1]),\n",
       " tensor([0]),\n",
       " tensor([0, 1]),\n",
       " tensor([0]),\n",
       " tensor([0]),\n",
       " tensor([1]),\n",
       " tensor([1]),\n",
       " tensor([0]),\n",
       " tensor([0]),\n",
       " tensor([1]),\n",
       " tensor([0]),\n",
       " tensor([0, 1]),\n",
       " tensor([1]),\n",
       " tensor([0]),\n",
       " tensor([0]),\n",
       " tensor([0]),\n",
       " tensor([0]),\n",
       " tensor([1, 0]),\n",
       " tensor([1]),\n",
       " tensor([1]),\n",
       " tensor([1, 0]),\n",
       " tensor([0]),\n",
       " tensor([1]),\n",
       " tensor([0]),\n",
       " tensor([0]),\n",
       " tensor([1]),\n",
       " tensor([0]),\n",
       " tensor([0]),\n",
       " tensor([1]),\n",
       " tensor([0]),\n",
       " tensor([0]),\n",
       " tensor([0]),\n",
       " tensor([0]),\n",
       " tensor([0]),\n",
       " tensor([1, 0]),\n",
       " tensor([1]),\n",
       " tensor([1]),\n",
       " tensor([0]),\n",
       " tensor([1]),\n",
       " tensor([0]),\n",
       " tensor([0]),\n",
       " tensor([1]),\n",
       " tensor([1]),\n",
       " tensor([0]),\n",
       " tensor([0]),\n",
       " tensor([0]),\n",
       " tensor([1]),\n",
       " tensor([1]),\n",
       " tensor([1]),\n",
       " tensor([1]),\n",
       " tensor([0]),\n",
       " tensor([0]),\n",
       " tensor([1]),\n",
       " tensor([0]),\n",
       " tensor([0]),\n",
       " tensor([0]),\n",
       " tensor([0]),\n",
       " tensor([0]),\n",
       " tensor([1]),\n",
       " tensor([1]),\n",
       " tensor([0]),\n",
       " tensor([0]),\n",
       " tensor([0]),\n",
       " tensor([1]),\n",
       " tensor([0]),\n",
       " tensor([0]),\n",
       " tensor([0]),\n",
       " tensor([1]),\n",
       " tensor([1]),\n",
       " tensor([1]),\n",
       " tensor([1]),\n",
       " tensor([0]),\n",
       " tensor([1]),\n",
       " tensor([1]),\n",
       " tensor([1]),\n",
       " tensor([1]),\n",
       " tensor([0]),\n",
       " tensor([1]),\n",
       " tensor([0]),\n",
       " tensor([1]),\n",
       " tensor([1]),\n",
       " tensor([0]),\n",
       " tensor([0]),\n",
       " tensor([1]),\n",
       " tensor([0]),\n",
       " tensor([0]),\n",
       " tensor([1]),\n",
       " tensor([0]),\n",
       " tensor([1]),\n",
       " tensor([1]),\n",
       " tensor([1]),\n",
       " tensor([0]),\n",
       " tensor([0]),\n",
       " tensor([1]),\n",
       " tensor([0]),\n",
       " tensor([0]),\n",
       " tensor([0]),\n",
       " tensor([1]),\n",
       " tensor([1]),\n",
       " tensor([1]),\n",
       " tensor([1]),\n",
       " tensor([1]),\n",
       " tensor([1]),\n",
       " tensor([0]),\n",
       " tensor([0]),\n",
       " tensor([1]),\n",
       " tensor([0, 1]),\n",
       " tensor([0]),\n",
       " tensor([1]),\n",
       " tensor([0]),\n",
       " tensor([1]),\n",
       " tensor([1]),\n",
       " tensor([0]),\n",
       " tensor([0]),\n",
       " tensor([0]),\n",
       " tensor([1]),\n",
       " tensor([1]),\n",
       " tensor([1]),\n",
       " tensor([1]),\n",
       " tensor([0]),\n",
       " tensor([0, 1]),\n",
       " tensor([1]),\n",
       " tensor([1]),\n",
       " tensor([0]),\n",
       " tensor([0]),\n",
       " tensor([0]),\n",
       " tensor([0]),\n",
       " tensor([0]),\n",
       " tensor([0]),\n",
       " tensor([1]),\n",
       " tensor([0]),\n",
       " tensor([0]),\n",
       " tensor([1]),\n",
       " tensor([1]),\n",
       " tensor([1]),\n",
       " tensor([1]),\n",
       " tensor([1]),\n",
       " tensor([0]),\n",
       " tensor([0]),\n",
       " tensor([0]),\n",
       " tensor([0]),\n",
       " tensor([0]),\n",
       " tensor([0]),\n",
       " tensor([1]),\n",
       " tensor([1]),\n",
       " tensor([1, 0]),\n",
       " tensor([1]),\n",
       " tensor([1]),\n",
       " tensor([1]),\n",
       " tensor([1]),\n",
       " tensor([1]),\n",
       " tensor([1]),\n",
       " tensor([0]),\n",
       " tensor([0]),\n",
       " tensor([0]),\n",
       " tensor([1]),\n",
       " tensor([0, 1]),\n",
       " tensor([1]),\n",
       " tensor([0]),\n",
       " tensor([1]),\n",
       " tensor([0]),\n",
       " tensor([0]),\n",
       " tensor([1]),\n",
       " tensor([0]),\n",
       " tensor([0]),\n",
       " tensor([1]),\n",
       " tensor([0, 1]),\n",
       " tensor([1]),\n",
       " tensor([1]),\n",
       " tensor([1]),\n",
       " tensor([1, 0]),\n",
       " tensor([1]),\n",
       " tensor([1]),\n",
       " tensor([0]),\n",
       " tensor([0]),\n",
       " tensor([0]),\n",
       " tensor([0]),\n",
       " tensor([0]),\n",
       " tensor([1]),\n",
       " tensor([0]),\n",
       " tensor([0]),\n",
       " tensor([0]),\n",
       " tensor([1]),\n",
       " tensor([0]),\n",
       " tensor([0]),\n",
       " tensor([0]),\n",
       " tensor([0]),\n",
       " tensor([1]),\n",
       " tensor([0, 1]),\n",
       " tensor([1]),\n",
       " tensor([1]),\n",
       " tensor([1]),\n",
       " tensor([0]),\n",
       " tensor([1]),\n",
       " tensor([1]),\n",
       " tensor([0]),\n",
       " tensor([1, 0]),\n",
       " tensor([1]),\n",
       " tensor([0]),\n",
       " tensor([0]),\n",
       " tensor([0]),\n",
       " tensor([1]),\n",
       " tensor([1]),\n",
       " tensor([1]),\n",
       " tensor([1]),\n",
       " tensor([0]),\n",
       " tensor([1]),\n",
       " tensor([0]),\n",
       " tensor([1]),\n",
       " tensor([1]),\n",
       " tensor([1]),\n",
       " tensor([0]),\n",
       " tensor([1]),\n",
       " tensor([1]),\n",
       " tensor([0]),\n",
       " tensor([0]),\n",
       " tensor([1]),\n",
       " tensor([1]),\n",
       " tensor([1]),\n",
       " tensor([1]),\n",
       " tensor([0]),\n",
       " tensor([1]),\n",
       " tensor([0]),\n",
       " tensor([1]),\n",
       " tensor([0]),\n",
       " tensor([0]),\n",
       " tensor([0]),\n",
       " tensor([0]),\n",
       " tensor([1]),\n",
       " tensor([0]),\n",
       " tensor([0]),\n",
       " tensor([1]),\n",
       " tensor([1]),\n",
       " tensor([0]),\n",
       " tensor([1]),\n",
       " tensor([0]),\n",
       " tensor([0]),\n",
       " tensor([0]),\n",
       " tensor([1]),\n",
       " tensor([1]),\n",
       " tensor([1]),\n",
       " tensor([1]),\n",
       " tensor([1]),\n",
       " tensor([1]),\n",
       " tensor([0]),\n",
       " tensor([1]),\n",
       " tensor([1]),\n",
       " tensor([1]),\n",
       " tensor([1]),\n",
       " tensor([0]),\n",
       " tensor([0]),\n",
       " tensor([1]),\n",
       " tensor([1]),\n",
       " tensor([0]),\n",
       " tensor([0]),\n",
       " tensor([0]),\n",
       " tensor([0]),\n",
       " tensor([0, 1]),\n",
       " tensor([0]),\n",
       " tensor([0]),\n",
       " tensor([1]),\n",
       " tensor([0]),\n",
       " tensor([1]),\n",
       " tensor([0, 1]),\n",
       " tensor([0]),\n",
       " tensor([0]),\n",
       " tensor([0]),\n",
       " tensor([1, 0]),\n",
       " tensor([1]),\n",
       " tensor([0]),\n",
       " tensor([1, 0]),\n",
       " tensor([0]),\n",
       " tensor([1]),\n",
       " tensor([0]),\n",
       " tensor([0]),\n",
       " tensor([1]),\n",
       " tensor([1]),\n",
       " tensor([0]),\n",
       " tensor([0]),\n",
       " tensor([0]),\n",
       " tensor([1]),\n",
       " tensor([0]),\n",
       " tensor([1]),\n",
       " tensor([1]),\n",
       " tensor([0]),\n",
       " tensor([0]),\n",
       " ...]"
      ]
     },
     "execution_count": 48,
     "metadata": {},
     "output_type": "execute_result"
    }
   ],
   "source": [
    "prediction_sets"
   ]
  },
  {
   "cell_type": "code",
   "execution_count": null,
   "id": "682c3375-a377-406f-89ab-b23974b820d5",
   "metadata": {},
   "outputs": [],
   "source": []
  }
 ],
 "metadata": {
  "kernelspec": {
   "display_name": "Python 3 (ipykernel)",
   "language": "python",
   "name": "python3"
  },
  "language_info": {
   "codemirror_mode": {
    "name": "ipython",
    "version": 3
   },
   "file_extension": ".py",
   "mimetype": "text/x-python",
   "name": "python",
   "nbconvert_exporter": "python",
   "pygments_lexer": "ipython3",
   "version": "3.8.12"
  }
 },
 "nbformat": 4,
 "nbformat_minor": 5
}
